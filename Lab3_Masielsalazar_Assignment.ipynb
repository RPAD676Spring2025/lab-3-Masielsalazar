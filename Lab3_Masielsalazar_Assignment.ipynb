{
  "cells": [
    {
      "cell_type": "markdown",
      "id": "514236ee",
      "metadata": {
        "id": "514236ee"
      },
      "source": [
        "#**Lab 3: Analyzing Data in Python**\n",
        "\n",
        "# RPAD 676: Data Science for the Public Good\n",
        "\n",
        "## Author:\n",
        "## Date:\n",
        "\n",
        "## Instructions\n",
        "In this assignment, you will conduct your own analysis using the provided dataset. Follow the prompts in each section and write the necessary Python code to complete the tasks.\n",
        "\n",
        "**Tasks:**\n",
        "- Load and explore the dataset\n",
        "- Perform basic data cleaning (handling missing values, etc.)\n",
        "- Generate descriptive statistics\n",
        "- Create at least one meaningful visualization\n",
        "- Summarize key insights from your analysis\n",
        "\n",
        "Remember to document your thought process in markdown cells throughout the notebook."
      ]
    },
    {
      "cell_type": "code",
      "execution_count": 9,
      "id": "bbc0bcae",
      "metadata": {
        "colab": {
          "base_uri": "https://localhost:8080/",
          "height": 417
        },
        "id": "bbc0bcae",
        "outputId": "b1cab986-c6fa-41a4-9813-05948167b19e"
      },
      "outputs": [
        {
          "output_type": "execute_result",
          "data": {
            "text/plain": [
              "   user_id  TimeTaken  UserSatisfaction  Age  DisabilityStatus  \\\n",
              "0        2        919                 4   38                 0   \n",
              "1        9        759                10   78                 0   \n",
              "2       13        853                 8   45                 0   \n",
              "3       15        503                 4   66                 0   \n",
              "4       25        857                 7   69                 0   \n",
              "\n",
              "   DigitalLiteracy  Gender EmploymentStatus EducationLevel InternetAccess  \\\n",
              "0                5  Female          Retired   Some College      Broadband   \n",
              "1                5    Male         Employed    High School      Broadband   \n",
              "2                3  Female       Unemployed       Bachelor      Broadband   \n",
              "3                3    Male          Student       Bachelor      Broadband   \n",
              "4                1  Female         Employed   Some College    Mobile Data   \n",
              "\n",
              "   ErrorRates  RequestedHelp  SatisfactionOtherServices  WillingnessFutureUse  \\\n",
              "0           1              0                          6                    10   \n",
              "1           1              0                          3                     8   \n",
              "2           2              0                          6                    10   \n",
              "3           1              0                          2                     1   \n",
              "4           4              0                          3                     1   \n",
              "\n",
              "   ReceivesSocialServices                                   Agency  \n",
              "0                       0  Department of Health and Human Services  \n",
              "1                       0              Department of Public Safety  \n",
              "2                       0                  Department of Education  \n",
              "3                       0              Department of Public Safety  \n",
              "4                       0                  Department of Education  "
            ],
            "text/html": [
              "\n",
              "  <div id=\"df-185b0d11-ff20-4764-b708-ee6f1feb2109\" class=\"colab-df-container\">\n",
              "    <div>\n",
              "<style scoped>\n",
              "    .dataframe tbody tr th:only-of-type {\n",
              "        vertical-align: middle;\n",
              "    }\n",
              "\n",
              "    .dataframe tbody tr th {\n",
              "        vertical-align: top;\n",
              "    }\n",
              "\n",
              "    .dataframe thead th {\n",
              "        text-align: right;\n",
              "    }\n",
              "</style>\n",
              "<table border=\"1\" class=\"dataframe\">\n",
              "  <thead>\n",
              "    <tr style=\"text-align: right;\">\n",
              "      <th></th>\n",
              "      <th>user_id</th>\n",
              "      <th>TimeTaken</th>\n",
              "      <th>UserSatisfaction</th>\n",
              "      <th>Age</th>\n",
              "      <th>DisabilityStatus</th>\n",
              "      <th>DigitalLiteracy</th>\n",
              "      <th>Gender</th>\n",
              "      <th>EmploymentStatus</th>\n",
              "      <th>EducationLevel</th>\n",
              "      <th>InternetAccess</th>\n",
              "      <th>ErrorRates</th>\n",
              "      <th>RequestedHelp</th>\n",
              "      <th>SatisfactionOtherServices</th>\n",
              "      <th>WillingnessFutureUse</th>\n",
              "      <th>ReceivesSocialServices</th>\n",
              "      <th>Agency</th>\n",
              "    </tr>\n",
              "  </thead>\n",
              "  <tbody>\n",
              "    <tr>\n",
              "      <th>0</th>\n",
              "      <td>2</td>\n",
              "      <td>919</td>\n",
              "      <td>4</td>\n",
              "      <td>38</td>\n",
              "      <td>0</td>\n",
              "      <td>5</td>\n",
              "      <td>Female</td>\n",
              "      <td>Retired</td>\n",
              "      <td>Some College</td>\n",
              "      <td>Broadband</td>\n",
              "      <td>1</td>\n",
              "      <td>0</td>\n",
              "      <td>6</td>\n",
              "      <td>10</td>\n",
              "      <td>0</td>\n",
              "      <td>Department of Health and Human Services</td>\n",
              "    </tr>\n",
              "    <tr>\n",
              "      <th>1</th>\n",
              "      <td>9</td>\n",
              "      <td>759</td>\n",
              "      <td>10</td>\n",
              "      <td>78</td>\n",
              "      <td>0</td>\n",
              "      <td>5</td>\n",
              "      <td>Male</td>\n",
              "      <td>Employed</td>\n",
              "      <td>High School</td>\n",
              "      <td>Broadband</td>\n",
              "      <td>1</td>\n",
              "      <td>0</td>\n",
              "      <td>3</td>\n",
              "      <td>8</td>\n",
              "      <td>0</td>\n",
              "      <td>Department of Public Safety</td>\n",
              "    </tr>\n",
              "    <tr>\n",
              "      <th>2</th>\n",
              "      <td>13</td>\n",
              "      <td>853</td>\n",
              "      <td>8</td>\n",
              "      <td>45</td>\n",
              "      <td>0</td>\n",
              "      <td>3</td>\n",
              "      <td>Female</td>\n",
              "      <td>Unemployed</td>\n",
              "      <td>Bachelor</td>\n",
              "      <td>Broadband</td>\n",
              "      <td>2</td>\n",
              "      <td>0</td>\n",
              "      <td>6</td>\n",
              "      <td>10</td>\n",
              "      <td>0</td>\n",
              "      <td>Department of Education</td>\n",
              "    </tr>\n",
              "    <tr>\n",
              "      <th>3</th>\n",
              "      <td>15</td>\n",
              "      <td>503</td>\n",
              "      <td>4</td>\n",
              "      <td>66</td>\n",
              "      <td>0</td>\n",
              "      <td>3</td>\n",
              "      <td>Male</td>\n",
              "      <td>Student</td>\n",
              "      <td>Bachelor</td>\n",
              "      <td>Broadband</td>\n",
              "      <td>1</td>\n",
              "      <td>0</td>\n",
              "      <td>2</td>\n",
              "      <td>1</td>\n",
              "      <td>0</td>\n",
              "      <td>Department of Public Safety</td>\n",
              "    </tr>\n",
              "    <tr>\n",
              "      <th>4</th>\n",
              "      <td>25</td>\n",
              "      <td>857</td>\n",
              "      <td>7</td>\n",
              "      <td>69</td>\n",
              "      <td>0</td>\n",
              "      <td>1</td>\n",
              "      <td>Female</td>\n",
              "      <td>Employed</td>\n",
              "      <td>Some College</td>\n",
              "      <td>Mobile Data</td>\n",
              "      <td>4</td>\n",
              "      <td>0</td>\n",
              "      <td>3</td>\n",
              "      <td>1</td>\n",
              "      <td>0</td>\n",
              "      <td>Department of Education</td>\n",
              "    </tr>\n",
              "  </tbody>\n",
              "</table>\n",
              "</div>\n",
              "    <div class=\"colab-df-buttons\">\n",
              "\n",
              "  <div class=\"colab-df-container\">\n",
              "    <button class=\"colab-df-convert\" onclick=\"convertToInteractive('df-185b0d11-ff20-4764-b708-ee6f1feb2109')\"\n",
              "            title=\"Convert this dataframe to an interactive table.\"\n",
              "            style=\"display:none;\">\n",
              "\n",
              "  <svg xmlns=\"http://www.w3.org/2000/svg\" height=\"24px\" viewBox=\"0 -960 960 960\">\n",
              "    <path d=\"M120-120v-720h720v720H120Zm60-500h600v-160H180v160Zm220 220h160v-160H400v160Zm0 220h160v-160H400v160ZM180-400h160v-160H180v160Zm440 0h160v-160H620v160ZM180-180h160v-160H180v160Zm440 0h160v-160H620v160Z\"/>\n",
              "  </svg>\n",
              "    </button>\n",
              "\n",
              "  <style>\n",
              "    .colab-df-container {\n",
              "      display:flex;\n",
              "      gap: 12px;\n",
              "    }\n",
              "\n",
              "    .colab-df-convert {\n",
              "      background-color: #E8F0FE;\n",
              "      border: none;\n",
              "      border-radius: 50%;\n",
              "      cursor: pointer;\n",
              "      display: none;\n",
              "      fill: #1967D2;\n",
              "      height: 32px;\n",
              "      padding: 0 0 0 0;\n",
              "      width: 32px;\n",
              "    }\n",
              "\n",
              "    .colab-df-convert:hover {\n",
              "      background-color: #E2EBFA;\n",
              "      box-shadow: 0px 1px 2px rgba(60, 64, 67, 0.3), 0px 1px 3px 1px rgba(60, 64, 67, 0.15);\n",
              "      fill: #174EA6;\n",
              "    }\n",
              "\n",
              "    .colab-df-buttons div {\n",
              "      margin-bottom: 4px;\n",
              "    }\n",
              "\n",
              "    [theme=dark] .colab-df-convert {\n",
              "      background-color: #3B4455;\n",
              "      fill: #D2E3FC;\n",
              "    }\n",
              "\n",
              "    [theme=dark] .colab-df-convert:hover {\n",
              "      background-color: #434B5C;\n",
              "      box-shadow: 0px 1px 3px 1px rgba(0, 0, 0, 0.15);\n",
              "      filter: drop-shadow(0px 1px 2px rgba(0, 0, 0, 0.3));\n",
              "      fill: #FFFFFF;\n",
              "    }\n",
              "  </style>\n",
              "\n",
              "    <script>\n",
              "      const buttonEl =\n",
              "        document.querySelector('#df-185b0d11-ff20-4764-b708-ee6f1feb2109 button.colab-df-convert');\n",
              "      buttonEl.style.display =\n",
              "        google.colab.kernel.accessAllowed ? 'block' : 'none';\n",
              "\n",
              "      async function convertToInteractive(key) {\n",
              "        const element = document.querySelector('#df-185b0d11-ff20-4764-b708-ee6f1feb2109');\n",
              "        const dataTable =\n",
              "          await google.colab.kernel.invokeFunction('convertToInteractive',\n",
              "                                                    [key], {});\n",
              "        if (!dataTable) return;\n",
              "\n",
              "        const docLinkHtml = 'Like what you see? Visit the ' +\n",
              "          '<a target=\"_blank\" href=https://colab.research.google.com/notebooks/data_table.ipynb>data table notebook</a>'\n",
              "          + ' to learn more about interactive tables.';\n",
              "        element.innerHTML = '';\n",
              "        dataTable['output_type'] = 'display_data';\n",
              "        await google.colab.output.renderOutput(dataTable, element);\n",
              "        const docLink = document.createElement('div');\n",
              "        docLink.innerHTML = docLinkHtml;\n",
              "        element.appendChild(docLink);\n",
              "      }\n",
              "    </script>\n",
              "  </div>\n",
              "\n",
              "\n",
              "<div id=\"df-cc5866d1-1e97-42d7-8888-16e9c221684f\">\n",
              "  <button class=\"colab-df-quickchart\" onclick=\"quickchart('df-cc5866d1-1e97-42d7-8888-16e9c221684f')\"\n",
              "            title=\"Suggest charts\"\n",
              "            style=\"display:none;\">\n",
              "\n",
              "<svg xmlns=\"http://www.w3.org/2000/svg\" height=\"24px\"viewBox=\"0 0 24 24\"\n",
              "     width=\"24px\">\n",
              "    <g>\n",
              "        <path d=\"M19 3H5c-1.1 0-2 .9-2 2v14c0 1.1.9 2 2 2h14c1.1 0 2-.9 2-2V5c0-1.1-.9-2-2-2zM9 17H7v-7h2v7zm4 0h-2V7h2v10zm4 0h-2v-4h2v4z\"/>\n",
              "    </g>\n",
              "</svg>\n",
              "  </button>\n",
              "\n",
              "<style>\n",
              "  .colab-df-quickchart {\n",
              "      --bg-color: #E8F0FE;\n",
              "      --fill-color: #1967D2;\n",
              "      --hover-bg-color: #E2EBFA;\n",
              "      --hover-fill-color: #174EA6;\n",
              "      --disabled-fill-color: #AAA;\n",
              "      --disabled-bg-color: #DDD;\n",
              "  }\n",
              "\n",
              "  [theme=dark] .colab-df-quickchart {\n",
              "      --bg-color: #3B4455;\n",
              "      --fill-color: #D2E3FC;\n",
              "      --hover-bg-color: #434B5C;\n",
              "      --hover-fill-color: #FFFFFF;\n",
              "      --disabled-bg-color: #3B4455;\n",
              "      --disabled-fill-color: #666;\n",
              "  }\n",
              "\n",
              "  .colab-df-quickchart {\n",
              "    background-color: var(--bg-color);\n",
              "    border: none;\n",
              "    border-radius: 50%;\n",
              "    cursor: pointer;\n",
              "    display: none;\n",
              "    fill: var(--fill-color);\n",
              "    height: 32px;\n",
              "    padding: 0;\n",
              "    width: 32px;\n",
              "  }\n",
              "\n",
              "  .colab-df-quickchart:hover {\n",
              "    background-color: var(--hover-bg-color);\n",
              "    box-shadow: 0 1px 2px rgba(60, 64, 67, 0.3), 0 1px 3px 1px rgba(60, 64, 67, 0.15);\n",
              "    fill: var(--button-hover-fill-color);\n",
              "  }\n",
              "\n",
              "  .colab-df-quickchart-complete:disabled,\n",
              "  .colab-df-quickchart-complete:disabled:hover {\n",
              "    background-color: var(--disabled-bg-color);\n",
              "    fill: var(--disabled-fill-color);\n",
              "    box-shadow: none;\n",
              "  }\n",
              "\n",
              "  .colab-df-spinner {\n",
              "    border: 2px solid var(--fill-color);\n",
              "    border-color: transparent;\n",
              "    border-bottom-color: var(--fill-color);\n",
              "    animation:\n",
              "      spin 1s steps(1) infinite;\n",
              "  }\n",
              "\n",
              "  @keyframes spin {\n",
              "    0% {\n",
              "      border-color: transparent;\n",
              "      border-bottom-color: var(--fill-color);\n",
              "      border-left-color: var(--fill-color);\n",
              "    }\n",
              "    20% {\n",
              "      border-color: transparent;\n",
              "      border-left-color: var(--fill-color);\n",
              "      border-top-color: var(--fill-color);\n",
              "    }\n",
              "    30% {\n",
              "      border-color: transparent;\n",
              "      border-left-color: var(--fill-color);\n",
              "      border-top-color: var(--fill-color);\n",
              "      border-right-color: var(--fill-color);\n",
              "    }\n",
              "    40% {\n",
              "      border-color: transparent;\n",
              "      border-right-color: var(--fill-color);\n",
              "      border-top-color: var(--fill-color);\n",
              "    }\n",
              "    60% {\n",
              "      border-color: transparent;\n",
              "      border-right-color: var(--fill-color);\n",
              "    }\n",
              "    80% {\n",
              "      border-color: transparent;\n",
              "      border-right-color: var(--fill-color);\n",
              "      border-bottom-color: var(--fill-color);\n",
              "    }\n",
              "    90% {\n",
              "      border-color: transparent;\n",
              "      border-bottom-color: var(--fill-color);\n",
              "    }\n",
              "  }\n",
              "</style>\n",
              "\n",
              "  <script>\n",
              "    async function quickchart(key) {\n",
              "      const quickchartButtonEl =\n",
              "        document.querySelector('#' + key + ' button');\n",
              "      quickchartButtonEl.disabled = true;  // To prevent multiple clicks.\n",
              "      quickchartButtonEl.classList.add('colab-df-spinner');\n",
              "      try {\n",
              "        const charts = await google.colab.kernel.invokeFunction(\n",
              "            'suggestCharts', [key], {});\n",
              "      } catch (error) {\n",
              "        console.error('Error during call to suggestCharts:', error);\n",
              "      }\n",
              "      quickchartButtonEl.classList.remove('colab-df-spinner');\n",
              "      quickchartButtonEl.classList.add('colab-df-quickchart-complete');\n",
              "    }\n",
              "    (() => {\n",
              "      let quickchartButtonEl =\n",
              "        document.querySelector('#df-cc5866d1-1e97-42d7-8888-16e9c221684f button');\n",
              "      quickchartButtonEl.style.display =\n",
              "        google.colab.kernel.accessAllowed ? 'block' : 'none';\n",
              "    })();\n",
              "  </script>\n",
              "</div>\n",
              "\n",
              "    </div>\n",
              "  </div>\n"
            ],
            "application/vnd.google.colaboratory.intrinsic+json": {
              "type": "dataframe",
              "variable_name": "data",
              "summary": "{\n  \"name\": \"data\",\n  \"rows\": 1000,\n  \"fields\": [\n    {\n      \"column\": \"user_id\",\n      \"properties\": {\n        \"dtype\": \"number\",\n        \"std\": 288,\n        \"min\": 1,\n        \"max\": 1000,\n        \"num_unique_values\": 1000,\n        \"samples\": [\n          381,\n          957,\n          971\n        ],\n        \"semantic_type\": \"\",\n        \"description\": \"\"\n      }\n    },\n    {\n      \"column\": \"TimeTaken\",\n      \"properties\": {\n        \"dtype\": \"number\",\n        \"std\": 344,\n        \"min\": 0,\n        \"max\": 2136,\n        \"num_unique_values\": 699,\n        \"samples\": [\n          1546,\n          917,\n          472\n        ],\n        \"semantic_type\": \"\",\n        \"description\": \"\"\n      }\n    },\n    {\n      \"column\": \"UserSatisfaction\",\n      \"properties\": {\n        \"dtype\": \"number\",\n        \"std\": 2,\n        \"min\": 1,\n        \"max\": 10,\n        \"num_unique_values\": 10,\n        \"samples\": [\n          9,\n          10,\n          5\n        ],\n        \"semantic_type\": \"\",\n        \"description\": \"\"\n      }\n    },\n    {\n      \"column\": \"Age\",\n      \"properties\": {\n        \"dtype\": \"number\",\n        \"std\": 17,\n        \"min\": 18,\n        \"max\": 79,\n        \"num_unique_values\": 62,\n        \"samples\": [\n          28,\n          67,\n          38\n        ],\n        \"semantic_type\": \"\",\n        \"description\": \"\"\n      }\n    },\n    {\n      \"column\": \"DisabilityStatus\",\n      \"properties\": {\n        \"dtype\": \"number\",\n        \"std\": 0,\n        \"min\": 0,\n        \"max\": 1,\n        \"num_unique_values\": 2,\n        \"samples\": [\n          1,\n          0\n        ],\n        \"semantic_type\": \"\",\n        \"description\": \"\"\n      }\n    },\n    {\n      \"column\": \"DigitalLiteracy\",\n      \"properties\": {\n        \"dtype\": \"number\",\n        \"std\": 1,\n        \"min\": 1,\n        \"max\": 5,\n        \"num_unique_values\": 5,\n        \"samples\": [\n          3,\n          2\n        ],\n        \"semantic_type\": \"\",\n        \"description\": \"\"\n      }\n    },\n    {\n      \"column\": \"Gender\",\n      \"properties\": {\n        \"dtype\": \"category\",\n        \"num_unique_values\": 3,\n        \"samples\": [\n          \"Female\",\n          \"Male\"\n        ],\n        \"semantic_type\": \"\",\n        \"description\": \"\"\n      }\n    },\n    {\n      \"column\": \"EmploymentStatus\",\n      \"properties\": {\n        \"dtype\": \"category\",\n        \"num_unique_values\": 4,\n        \"samples\": [\n          \"Employed\",\n          \"Student\"\n        ],\n        \"semantic_type\": \"\",\n        \"description\": \"\"\n      }\n    },\n    {\n      \"column\": \"EducationLevel\",\n      \"properties\": {\n        \"dtype\": \"category\",\n        \"num_unique_values\": 4,\n        \"samples\": [\n          \"High School\",\n          \"Graduate\"\n        ],\n        \"semantic_type\": \"\",\n        \"description\": \"\"\n      }\n    },\n    {\n      \"column\": \"InternetAccess\",\n      \"properties\": {\n        \"dtype\": \"category\",\n        \"num_unique_values\": 3,\n        \"samples\": [\n          \"Broadband\",\n          \"Mobile Data\"\n        ],\n        \"semantic_type\": \"\",\n        \"description\": \"\"\n      }\n    },\n    {\n      \"column\": \"ErrorRates\",\n      \"properties\": {\n        \"dtype\": \"number\",\n        \"std\": 2,\n        \"min\": 0,\n        \"max\": 22,\n        \"num_unique_values\": 15,\n        \"samples\": [\n          18,\n          8\n        ],\n        \"semantic_type\": \"\",\n        \"description\": \"\"\n      }\n    },\n    {\n      \"column\": \"RequestedHelp\",\n      \"properties\": {\n        \"dtype\": \"number\",\n        \"std\": 0,\n        \"min\": 0,\n        \"max\": 1,\n        \"num_unique_values\": 2,\n        \"samples\": [\n          1,\n          0\n        ],\n        \"semantic_type\": \"\",\n        \"description\": \"\"\n      }\n    },\n    {\n      \"column\": \"SatisfactionOtherServices\",\n      \"properties\": {\n        \"dtype\": \"number\",\n        \"std\": 2,\n        \"min\": 1,\n        \"max\": 10,\n        \"num_unique_values\": 10,\n        \"samples\": [\n          4,\n          3\n        ],\n        \"semantic_type\": \"\",\n        \"description\": \"\"\n      }\n    },\n    {\n      \"column\": \"WillingnessFutureUse\",\n      \"properties\": {\n        \"dtype\": \"number\",\n        \"std\": 3,\n        \"min\": 1,\n        \"max\": 10,\n        \"num_unique_values\": 10,\n        \"samples\": [\n          2,\n          8\n        ],\n        \"semantic_type\": \"\",\n        \"description\": \"\"\n      }\n    },\n    {\n      \"column\": \"ReceivesSocialServices\",\n      \"properties\": {\n        \"dtype\": \"number\",\n        \"std\": 0,\n        \"min\": 0,\n        \"max\": 1,\n        \"num_unique_values\": 2,\n        \"samples\": [\n          1,\n          0\n        ],\n        \"semantic_type\": \"\",\n        \"description\": \"\"\n      }\n    },\n    {\n      \"column\": \"Agency\",\n      \"properties\": {\n        \"dtype\": \"category\",\n        \"num_unique_values\": 4,\n        \"samples\": [\n          \"Department of Public Safety\",\n          \"Department of Housing\"\n        ],\n        \"semantic_type\": \"\",\n        \"description\": \"\"\n      }\n    }\n  ]\n}"
            }
          },
          "metadata": {},
          "execution_count": 9
        }
      ],
      "source": [
        "# Load necessary libraries\n",
        "import numpy as np\n",
        "import pandas as pd\n",
        "import scipy.stats as stats\n",
        "import matplotlib.pyplot as plt\n",
        "import seaborn as sns\n",
        "\n",
        "# Load the dataset (replace with actual file path)\n",
        "data = pd.read_csv('digital_services_data.csv')  # Replace with actual dataset file\n",
        "\n",
        "# Display the first few rows\n",
        "data.head()"
      ]
    },
    {
      "cell_type": "markdown",
      "id": "58068f12",
      "metadata": {
        "id": "58068f12"
      },
      "source": [
        "## Descriptive Statistics\n",
        "\n",
        "Compute and interpret basic statistics for the dataset:\n",
        "- Mean, median, mode\n",
        "- Standard deviation, min, max\n",
        "- Any other relevant metrics\n",
        "\n",
        "_Write your code below:_"
      ]
    },
    {
      "cell_type": "code",
      "execution_count": 10,
      "id": "1f067573",
      "metadata": {
        "id": "1f067573",
        "colab": {
          "base_uri": "https://localhost:8080/"
        },
        "outputId": "942ad0c0-c0c0-4620-8896-68508b850124"
      },
      "outputs": [
        {
          "output_type": "stream",
          "name": "stdout",
          "text": [
            "Descriptive Statistics for Numeric Variables\n",
            "           user_id    TimeTaken  UserSatisfaction          Age  \\\n",
            "count  1000.000000  1000.000000       1000.000000  1000.000000   \n",
            "mean    500.500000  1059.025000          4.946000    49.039000   \n",
            "std     288.819436   344.668741          2.901293    17.891998   \n",
            "min       1.000000     0.000000          1.000000    18.000000   \n",
            "25%     250.750000   830.500000          2.000000    34.000000   \n",
            "50%     500.500000  1064.000000          5.000000    50.000000   \n",
            "75%     750.250000  1274.000000          7.000000    64.000000   \n",
            "max    1000.000000  2136.000000         10.000000    79.000000   \n",
            "\n",
            "       DisabilityStatus  DigitalLiteracy   ErrorRates  RequestedHelp  \\\n",
            "count       1000.000000      1000.000000  1000.000000    1000.000000   \n",
            "mean           0.153000         3.053000     2.387000       0.287000   \n",
            "std            0.360168         1.397907     2.384726       0.452588   \n",
            "min            0.000000         1.000000     0.000000       0.000000   \n",
            "25%            0.000000         2.000000     1.000000       0.000000   \n",
            "50%            0.000000         3.000000     2.000000       0.000000   \n",
            "75%            0.000000         4.000000     4.000000       1.000000   \n",
            "max            1.000000         5.000000    22.000000       1.000000   \n",
            "\n",
            "       SatisfactionOtherServices  WillingnessFutureUse  ReceivesSocialServices  \n",
            "count                1000.000000           1000.000000             1000.000000  \n",
            "mean                    5.606000              5.765000                0.616000  \n",
            "std                     2.873852              3.050095                0.486601  \n",
            "min                     1.000000              1.000000                0.000000  \n",
            "25%                     3.000000              3.000000                0.000000  \n",
            "50%                     6.000000              6.000000                1.000000  \n",
            "75%                     8.000000              8.000000                1.000000  \n",
            "max                    10.000000             10.000000                1.000000  \n"
          ]
        }
      ],
      "source": [
        "# Descriptive Statistics #\n",
        "print(\"Descriptive Statistics for Numeric Variables\")\n",
        "print(data.describe())"
      ]
    },
    {
      "cell_type": "markdown",
      "id": "0b62a4a0",
      "metadata": {
        "id": "0b62a4a0"
      },
      "source": [
        "## Data Visualization\n",
        "\n",
        "Create at least one visualization that highlights an interesting aspect of the dataset. You may use bar plots, histograms, scatter plots, or other relevant charts.\n",
        "\n",
        "_Write your code below:_"
      ]
    },
    {
      "cell_type": "markdown",
      "source": [
        "Note that pie chart has different coding than bar chart and box plot."
      ],
      "metadata": {
        "id": "_7f3lsa0U5zF"
      },
      "id": "_7f3lsa0U5zF"
    },
    {
      "cell_type": "code",
      "execution_count": 17,
      "id": "9ef437d3",
      "metadata": {
        "id": "9ef437d3",
        "colab": {
          "base_uri": "https://localhost:8080/",
          "height": 781
        },
        "outputId": "ce019c15-1a6d-4b50-dbf8-be31f2967d29"
      },
      "outputs": [
        {
          "output_type": "display_data",
          "data": {
            "text/plain": [
              "<Figure size 800x800 with 1 Axes>"
            ],
            "image/png": "[encoded data removed]"
          },
          "metadata": {}
        }
      ],
      "source": [
        "data.groupby('Gender')['ErrorRates'].mean().sort_values().plot(kind='bar', color='lavender', figsize=(8,8))\n",
        "plt.xlabel(\"Gender\")\n",
        "plt.ylabel(\"Error Rates\")\n",
        "plt.title(\"Comparison of Gender and Error Rates\")\n",
        "plt.xticks(rotation=90)\n",
        "plt.show()"
      ]
    },
    {
      "cell_type": "markdown",
      "source": [
        "## Inferential Statistics\n",
        "\n",
        "### T-Tests\n",
        "Compare means across two groups using the t-test. Calculate the means, conduct the t-test, and summarize the findings and what they say about the relationship between the variables.\n",
        "\n",
        "_Write your code below:_"
      ],
      "metadata": {
        "id": "ihn5rwm4a10-"
      },
      "id": "ihn5rwm4a10-"
    },
    {
      "cell_type": "code",
      "source": [
        "outcome_variable = 'UserSatisfaction'\n",
        "categorical_variable = 'EmploymentStatus'\n",
        "\n",
        "specific_grouped_means = data.groupby(categorical_variable)[outcome_variable].mean().round(2)\n",
        "\n",
        "print(f\"\\nMean of {outcome_variable} grouped by {categorical_variable}:\")\n",
        "print(specific_grouped_means)"
      ],
      "metadata": {
        "id": "dWkoqKvObf5K",
        "colab": {
          "base_uri": "https://localhost:8080/"
        },
        "outputId": "0073ab2f-90e2-4bcd-e561-6a474eda5f35"
      },
      "id": "dWkoqKvObf5K",
      "execution_count": 12,
      "outputs": [
        {
          "output_type": "stream",
          "name": "stdout",
          "text": [
            "\n",
            "Mean of UserSatisfaction grouped by EmploymentStatus:\n",
            "EmploymentStatus\n",
            "Employed      4.86\n",
            "Retired       4.87\n",
            "Student       5.26\n",
            "Unemployed    5.13\n",
            "Name: UserSatisfaction, dtype: float64\n"
          ]
        }
      ]
    },
    {
      "cell_type": "code",
      "source": [
        "\n",
        "\n",
        "t_stat, p_val = stats.ttest_ind(\n",
        "    data[data['DisabilityStatus'] == 1]['TimeTaken'],\n",
        "    data[data['DisabilityStatus'] == 0]['TimeTaken']\n",
        ")\n",
        "print(f\"T-test: Effect of Disability on Time Taken (in Seconds), t-statistic={t_stat:.4f}, p-value={p_val:.4f}\")\n"
      ],
      "metadata": {
        "id": "jgtWABVjXLEQ",
        "colab": {
          "base_uri": "https://localhost:8080/"
        },
        "outputId": "fc545a8b-6119-4ce4-ba39-7e794a1a71dc"
      },
      "id": "jgtWABVjXLEQ",
      "execution_count": 13,
      "outputs": [
        {
          "output_type": "stream",
          "name": "stdout",
          "text": [
            "T-test: Effect of Disability on Time Taken (in Seconds), t-statistic=4.9169, p-value=0.0000\n"
          ]
        }
      ]
    },
    {
      "cell_type": "markdown",
      "source": [
        "### ANOVA\n",
        "Compare means across two groups using the t-test. Calculate the means, conduct the t-test, and summarize the findings and what they say about the relationship between the variables.\n",
        "\n",
        "_Write your code below:_"
      ],
      "metadata": {
        "id": "tYWakQc7bc2F"
      },
      "id": "tYWakQc7bc2F"
    },
    {
      "cell_type": "code",
      "source": [
        "outcome_variable = 'TimeTaken'  # Change to the variable of interest\n",
        "categorical_variable = 'Agency'  # Change to the desired categorical variable\n",
        "\n",
        "specific_grouped_means = data.groupby(categorical_variable)[outcome_variable].mean().round(2)\n",
        "print(f\"\\nMean of {outcome_variable} grouped by {categorical_variable}:\")\n",
        "print(specific_grouped_means)\n",
        "\n",
        "aov = smf.ols(f'{outcome_variable} ~ C({categorical_variable})', data=data).fit()\n",
        "anova_table = sm.stats.anova_lm(aov, typ=2)\n",
        "\n",
        "print(\"\\nANOVA Results:\")\n",
        "print(anova_table)"
      ],
      "metadata": {
        "id": "5u5FkUHFbhJK",
        "colab": {
          "base_uri": "https://localhost:8080/"
        },
        "outputId": "be2aac0a-7c7b-4a6a-a709-3808ec224909"
      },
      "id": "5u5FkUHFbhJK",
      "execution_count": 15,
      "outputs": [
        {
          "output_type": "stream",
          "name": "stdout",
          "text": [
            "\n",
            "Mean of TimeTaken grouped by Agency:\n",
            "Agency\n",
            "Department of Education                     902.80\n",
            "Department of Health and Human Services    1183.80\n",
            "Department of Housing                      1033.89\n",
            "Department of Public Safety                1119.40\n",
            "Name: TimeTaken, dtype: float64\n",
            "\n",
            "ANOVA Results:\n",
            "                 sum_sq     df          F        PR(>F)\n",
            "C(Agency)  1.083668e+07    3.0  33.361848  1.501558e-20\n",
            "Residual   1.078411e+08  996.0        NaN           NaN\n"
          ]
        }
      ]
    },
    {
      "cell_type": "markdown",
      "id": "393ad963",
      "metadata": {
        "id": "393ad963"
      },
      "source": [
        "## Key Insights\n",
        "\n",
        "Summarize your findings in a short paragraph. What patterns or trends did you observe? Were there any surprises in the data? How might these insights be useful?\n",
        "\n",
        "_Write your response below:_"
      ]
    },
    {
      "cell_type": "markdown",
      "source": [
        "I was surprised to see that this data didn't have any strong correlations within the categories. For example, with error rates, there wasn't much variation between different categories."
      ],
      "metadata": {
        "id": "BvLSX-pcngii"
      },
      "id": "BvLSX-pcngii"
    }
  ],
  "metadata": {
    "colab": {
      "provenance": []
    },
    "language_info": {
      "name": "python"
    },
    "kernelspec": {
      "name": "python3",
      "display_name": "Python 3"
    }
  },
  "nbformat": 4,
  "nbformat_minor": 5
}